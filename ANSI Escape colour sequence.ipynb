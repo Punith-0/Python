{
 "cells": [
  {
   "cell_type": "code",
   "execution_count": 2,
   "id": "cfec74ae-6b88-4bb5-8c9c-6118139763aa",
   "metadata": {},
   "outputs": [
    {
     "name": "stdout",
     "output_type": "stream",
     "text": [
      "\u001b[31mThis is a red message.\u001b[0m\n",
      "\u001b[1m\u001b[32m\u001b[30mThis is bold and green.\u001b[0m\n"
     ]
    }
   ],
   "source": [
    "# ANSI escape codes for colors and styles\n",
    "RESET = \"\\033[0m\"\n",
    "RED = \"\\033[31m\"\n",
    "GREEN = \"\\033[32m\"\n",
    "BOLD = \"\\033[1m\"\n",
    "HIGHLIGHT = \"\\033[7m\"\n",
    "BLACK = \"\\033[30m\"\n",
    "\n",
    "print(f\"{RED}This is a red message.{RESET}\")\n",
    "print(f\"{BOLD}{GREEN}{BLACK}This is bold and green.{RESET}\")"
   ]
  },
  {
   "cell_type": "code",
   "execution_count": null,
   "id": "8eda05d8-011f-44a9-b636-20461180e960",
   "metadata": {},
   "outputs": [],
   "source": []
  }
 ],
 "metadata": {
  "kernelspec": {
   "display_name": "Python 3 (ipykernel)",
   "language": "python",
   "name": "python3"
  },
  "language_info": {
   "codemirror_mode": {
    "name": "ipython",
    "version": 3
   },
   "file_extension": ".py",
   "mimetype": "text/x-python",
   "name": "python",
   "nbconvert_exporter": "python",
   "pygments_lexer": "ipython3",
   "version": "3.13.5"
  },
  "widgets": {
   "application/vnd.jupyter.widget-state+json": {
    "state": {},
    "version_major": 2,
    "version_minor": 0
   }
  }
 },
 "nbformat": 4,
 "nbformat_minor": 5
}
